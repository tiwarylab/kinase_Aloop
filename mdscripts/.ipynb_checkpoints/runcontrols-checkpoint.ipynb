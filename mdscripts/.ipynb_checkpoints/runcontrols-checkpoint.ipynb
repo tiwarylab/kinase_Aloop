{
 "cells": [
  {
   "cell_type": "code",
   "execution_count": 1,
   "metadata": {
    "colab": {
     "base_uri": "https://localhost:8080/",
     "height": 53,
     "referenced_widgets": [
      "c20f891dd8dd4a768f01524a70a7bf18",
      "05cccf5b893b4a768f1e92dafbf6b7c3"
     ]
    },
    "executionInfo": {
     "elapsed": 86808,
     "status": "ok",
     "timestamp": 1681775945291,
     "user": {
      "displayName": "Bodhi Vani",
      "userId": "09828074533450422072"
     },
     "user_tz": 240
    },
    "id": "-FYpR_cA6pBS",
    "outputId": "1ac834a8-2b82-4c4c-f9e9-ae842cb4125a"
   },
   "outputs": [],
   "source": [
    "import numpy as np\n",
    "import matplotlib.pyplot as plt\n",
    "import mdtraj as md\n",
    "import os\n",
    "#import nglview as nv\n",
    "import kinaseCVs as kcv\n",
    "import openmm_utils as op"
   ]
  },
  {
   "cell_type": "code",
   "execution_count": 2,
   "metadata": {
    "id": "0PNZATUb8g2G"
   },
   "outputs": [
    {
     "data": {
      "text/plain": [
       "<module 'kinaseCVs' from '/scratch/zt1/project/tiwary-prj/user/bvani/kinase/pyscripts/kinaseCVs.py'>"
      ]
     },
     "execution_count": 2,
     "metadata": {},
     "output_type": "execute_result"
    }
   ],
   "source": [
    "import importlib\n",
    "importlib.reload(kcv)"
   ]
  },
  {
   "cell_type": "code",
   "execution_count": 3,
   "metadata": {
    "executionInfo": {
     "elapsed": 8,
     "status": "ok",
     "timestamp": 1681775945292,
     "user": {
      "displayName": "Bodhi Vani",
      "userId": "09828074533450422072"
     },
     "user_tz": 240
    },
    "id": "SX5oguA1kc7A"
   },
   "outputs": [],
   "source": [
    "resids_DDR1={'HRDxN': 172, 'DFGAsp': 185, 'ChelE': 73, 'X2': 80, 'X3': 164, 'sbridgeR': 171, 'sbridgeK': 56, 'PloopN1': 17, 'PloopC1': 22, 'DFGPhe': 186, 'DFGGly': 187, 'ChelX': 77, 'X4': 190, 'PloopN2': 18, 'PloopC2': 21}\n"
   ]
  },
  {
   "cell_type": "code",
   "execution_count": 4,
   "metadata": {
    "executionInfo": {
     "elapsed": 160,
     "status": "ok",
     "timestamp": 1681775968108,
     "user": {
      "displayName": "Bodhi Vani",
      "userId": "09828074533450422072"
     },
     "user_tz": 240
    },
    "id": "hbb44F1Ykguq"
   },
   "outputs": [
    {
     "data": {
      "text/plain": [
       "'/scratch/zt1/project/tiwary-prj/user/bvani/kinase/pyscripts'"
      ]
     },
     "execution_count": 4,
     "metadata": {},
     "output_type": "execute_result"
    }
   ],
   "source": [
    "types=[\"WT\",\"Y759A\",\"Y755A\",\"D671N\"]\n",
    "path=os.getcwd()\n",
    "%pwd"
   ]
  },
  {
   "cell_type": "code",
   "execution_count": 22,
   "metadata": {
    "id": "41_c06rqfDtj"
   },
   "outputs": [],
   "source": [
    "\"\"\"\n",
    "os.chdir(\"/home/bvani/scratch/kinase/longruns/\")\n",
    "for t in types:\n",
    "    os.mkdir(t)\n",
    "os.chdir(\"..\")"
   ]
  },
  {
   "cell_type": "code",
   "execution_count": 6,
   "metadata": {
    "id": "BVh2w6oPtEGk"
   },
   "outputs": [],
   "source": [
    "def sbatchpreamble(path,filename,jobname=\"prodrun\",time=5):\n",
    "    f=open(path+\"/\"+filename,\"w+\")\n",
    "    f.write(\"#!/usr/bin/env bash\\n#SBATCH --partition=gpu\\n#SBATCH --gres=gpu:a100:1\\n#SBATCH --time=%i:00:00\\n#SBATCH --job-name=%s\\n\"%(time,jobname))\n",
    "    f.write(\"module purge\\nmodule load cuda\\nsource ~/scratch/anaconda3/etc/profile.d/conda.sh\\nconda activate openmm\\n\")\n",
    "    return f\n",
    "\n",
    "def runequil(mutant,afid,predid):\n",
    "    os.chdir(\"/home/bvani/scratch/kinase/equilruns/\"+mutant)\n",
    "    f=sbatchpreamble(\".\",\"%s_%i_job.sh\"%(mutant,predid),mutant+\"_prodrun\")\n",
    "    f.write(\"\\n python /home/bvani/scratch/kinase/pyscripts/equilprotocol.py -file /home/bvani/scratch/kinase/AF2structs/DDR1_%s_%s/pred_%i.pdb\"%(mutant,afid,predid+1))\n",
    "    f.close()\n",
    "    os.system(\"sbatch %s_%i_job.sh\"%(mutant,predid))\n",
    "    \n",
    "def basicmd(mutant,equilid):\n",
    "    os.chdir(\"/home/bvani/scratch/kinase/prodruns/\"+mutant)\n",
    "    f=sbatchpreamble(\".\",\"%s_job.sh\"%mutant,mutant+\"_prodrun\")\n",
    "    f.write(\"\\n python /home/bvani/scratch/kinase/pyscripts/basicmd.py -source /home/bvani/scratch/kinase/equilruns/%s/equil_%i/equilNPT_0\"%(mutant,equilid))\n",
    "    f.close()\n",
    "    os.system(\"sbatch %s_job.sh\"%(mutant))\n",
    "\n"
   ]
  },
  {
   "cell_type": "code",
   "execution_count": 9,
   "metadata": {},
   "outputs": [
    {
     "name": "stdout",
     "output_type": "stream",
     "text": [
      "Submitted batch job 3402763\n"
     ]
    }
   ],
   "source": [
    "for i in [452,469,567,591,596]:\n",
    "    runequil(\"WT\",\"08_0\",i)\n",
    "    for k in range(1000):\n",
    "        pass\n",
    "#for t in types[1:]:\n",
    "#    basicmd(t,0)"
   ]
  },
  {
   "cell_type": "code",
   "execution_count": null,
   "metadata": {
    "id": "zd5D07OiVpse"
   },
   "outputs": [],
   "source": [
    "resids_CDK1={'HRDxN':133, 'DFGAsp':146, 'DFGPhe':147,'DFGGly':148, 'ChelE':51, 'ChelX':55, 'X1':133, 'X2':58 , 'X3':125, 'X4':151, 'sbridgeR':132, 'sbridgeK':33, 'PloopN1':10, 'PloopN2':11, 'PloopC1':15, 'PloopC2':14}\n",
    "resids_CDK1=dict([(a,resids_CDK1[a]-1) for a in resids_CDK1.keys()])\n",
    "resids_CDK2={'HRDxN':132, 'DFGAsp':145, 'DFGPhe':146,'DFGGly':147, 'ChelE':51, 'ChelX':55, 'X1':132, 'X2':58 , 'X3':124, 'X4':151, 'sbridgeR':131, 'sbridgeK':33, 'PloopN1':10, 'PloopN2':11, 'PloopC1':15, 'PloopC2':14}\n",
    "resids_CDK2=dict([(a,resids_CDK2[a]-1) for a in resids_CDK2.keys()])\n",
    "\n",
    "resids_Abl={'HRDxN':387, 'DFGAsp':400, 'DFGPhe':401,'DFGGly':402, 'ChelE':305, 'ChelX':309, 'X1':387, 'X2':312 , 'X3':379, 'X4':405, 'sbridgeR':405, 'sbridgeK':290, 'PloopN1':267, 'PloopN2':268, 'PloopC1':272, 'PloopC2':271}\n",
    "resids_Abl=dict([(a,resids_Abl[a]-248) for a in resids_Abl.keys()])\n",
    "traj=md.load([\"6xr6_01.gro\",\"6xr7.gro\"])\n",
    "topology=traj.top\n",
    "Abl=kcv.kinase_cvs(\"Abl\",topology,resids_Abl,traj)"
   ]
  },
  {
   "cell_type": "code",
   "execution_count": 7,
   "metadata": {},
   "outputs": [],
   "source": [
    "atom_indices=top.select(\"protein\")"
   ]
  }
 ],
 "metadata": {
  "colab": {
   "provenance": []
  },
  "kernelspec": {
   "display_name": "Python [conda env:openmm]",
   "language": "python",
   "name": "conda-env-openmm-py"
  },
  "language_info": {
   "codemirror_mode": {
    "name": "ipython",
    "version": 3
   },
   "file_extension": ".py",
   "mimetype": "text/x-python",
   "name": "python",
   "nbconvert_exporter": "python",
   "pygments_lexer": "ipython3",
   "version": "3.10.9"
  },
  "widgets": {
   "application/vnd.jupyter.widget-state+json": {
    "05cccf5b893b4a768f1e92dafbf6b7c3": {
     "model_module": "@jupyter-widgets/base",
     "model_module_version": "1.2.0",
     "model_name": "LayoutModel",
     "state": {
      "_model_module": "@jupyter-widgets/base",
      "_model_module_version": "1.2.0",
      "_model_name": "LayoutModel",
      "_view_count": null,
      "_view_module": "@jupyter-widgets/base",
      "_view_module_version": "1.2.0",
      "_view_name": "LayoutView",
      "align_content": null,
      "align_items": null,
      "align_self": null,
      "border": null,
      "bottom": null,
      "display": null,
      "flex": null,
      "flex_flow": null,
      "grid_area": null,
      "grid_auto_columns": null,
      "grid_auto_flow": null,
      "grid_auto_rows": null,
      "grid_column": null,
      "grid_gap": null,
      "grid_row": null,
      "grid_template_areas": null,
      "grid_template_columns": null,
      "grid_template_rows": null,
      "height": null,
      "justify_content": null,
      "justify_items": null,
      "left": null,
      "margin": null,
      "max_height": null,
      "max_width": null,
      "min_height": null,
      "min_width": null,
      "object_fit": null,
      "object_position": null,
      "order": null,
      "overflow": null,
      "overflow_x": null,
      "overflow_y": null,
      "padding": null,
      "right": null,
      "top": null,
      "visibility": null,
      "width": null
     }
    },
    "c20f891dd8dd4a768f01524a70a7bf18": {
     "model_module": "nglview-js-widgets",
     "model_module_version": "3.0.1",
     "model_name": "ColormakerRegistryModel",
     "state": {
      "_dom_classes": [],
      "_model_module": "nglview-js-widgets",
      "_model_module_version": "3.0.1",
      "_model_name": "ColormakerRegistryModel",
      "_msg_ar": [],
      "_msg_q": [],
      "_ready": true,
      "_view_count": null,
      "_view_module": "nglview-js-widgets",
      "_view_module_version": "3.0.1",
      "_view_name": "ColormakerRegistryView",
      "layout": "IPY_MODEL_05cccf5b893b4a768f1e92dafbf6b7c3"
     }
    }
   }
  }
 },
 "nbformat": 4,
 "nbformat_minor": 1
}
